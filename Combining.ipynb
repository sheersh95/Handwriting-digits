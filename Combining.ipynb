{
 "cells": [
  {
   "cell_type": "markdown",
   "metadata": {},
   "source": [
    "# Libraries Used"
   ]
  },
  {
   "cell_type": "code",
   "execution_count": 2,
   "metadata": {},
   "outputs": [
    {
     "name": "stderr",
     "output_type": "stream",
     "text": [
      "/usr/lib/python3/dist-packages/h5py/__init__.py:36: FutureWarning: Conversion of the second argument of issubdtype from `float` to `np.floating` is deprecated. In future, it will be treated as `np.float64 == np.dtype(float).type`.\n",
      "  from ._conv import register_converters as _register_converters\n",
      "Using TensorFlow backend.\n"
     ]
    }
   ],
   "source": [
    "import pickle\n",
    "import gzip \n",
    "import numpy as np\n",
    "from sklearn.svm import SVC  \n",
    "from sklearn.ensemble import RandomForestClassifier\n",
    "from sklearn.metrics import accuracy_score\n",
    "from sklearn.metrics import confusion_matrix\n",
    "from keras.layers.convolutional import Conv2D\n",
    "from keras.layers import Dense\n",
    "from keras.layers.convolutional import MaxPooling2D\n",
    "from keras.layers import Flatten\n",
    "from keras.layers import Dropout\n",
    "import keras\n",
    "from keras.layers import Dense  \n",
    "from keras.models import Sequential \n",
    "from PIL import Image\n",
    "import os\n",
    "from sklearn.metrics import confusion_matrix "
   ]
  },
  {
   "cell_type": "markdown",
   "metadata": {},
   "source": [
    "# Data Preprocessing"
   ]
  },
  {
   "cell_type": "code",
   "execution_count": 3,
   "metadata": {},
   "outputs": [],
   "source": [
    "filename = 'mnist.pkl.gz'\n",
    "f = gzip.open(filename, 'rb')\n",
    "training_data, validation_data, test_data = pickle.load(f, encoding='latin1')\n",
    "f.close()"
   ]
  },
  {
   "cell_type": "code",
   "execution_count": 4,
   "metadata": {},
   "outputs": [],
   "source": [
    "USPSMat  = []\n",
    "USPSTar  = []\n",
    "curPath  = 'USPSdata/USPSdata/Numerals'\n",
    "savedImg = []\n",
    "\n",
    "for j in range(0,10):\n",
    "    curFolderPath = curPath + '/' + str(j)\n",
    "    imgs =  os.listdir(curFolderPath)\n",
    "    for img in imgs:\n",
    "        curImg = curFolderPath + '/' + img\n",
    "        if curImg[-3:] == 'png':\n",
    "            img = Image.open(curImg,'r')\n",
    "            img = img.resize((28, 28))\n",
    "            savedImg = img\n",
    "            imgdata = (255-np.array(img.getdata()))/255\n",
    "            USPSMat.append(imgdata)\n",
    "            USPSTar.append(j)"
   ]
  },
  {
   "cell_type": "code",
   "execution_count": 5,
   "metadata": {},
   "outputs": [],
   "source": [
    "X_train = training_data[0]\n",
    "Y_train = training_data[1]\n",
    "X_val = validation_data[0]\n",
    "Y_val = validation_data[1]\n",
    "X_test = test_data[0]\n",
    "Y_test = test_data[1]"
   ]
  },
  {
   "cell_type": "markdown",
   "metadata": {},
   "source": [
    "# SVM with linear kernel"
   ]
  },
  {
   "cell_type": "code",
   "execution_count": 24,
   "metadata": {},
   "outputs": [
    {
     "data": {
      "text/plain": [
       "0.97246"
      ]
     },
     "execution_count": 24,
     "metadata": {},
     "output_type": "execute_result"
    }
   ],
   "source": [
    "classifier1 = SVC(kernel='linear') \n",
    "classifier1.fit(X_train, Y_train)  \n",
    "TrainingSVM = classifier1.predict(X_train)\n",
    "accuracy_score(Y_train,TrainingSVM)"
   ]
  },
  {
   "cell_type": "code",
   "execution_count": 37,
   "metadata": {},
   "outputs": [
    {
     "data": {
      "text/plain": [
       "array([[4822,    1,   16,    8,   13,   25,   18,    3,   23,    3],\n",
       "       [   2, 5562,   34,   17,    7,   15,    3,    8,   23,    7],\n",
       "       [  31,   25, 4614,   39,   64,   22,   53,   44,   66,   10],\n",
       "       [  13,   32,  100, 4647,    2,  149,   18,   51,   66,   23],\n",
       "       [   9,   10,   25,    0, 4624,    5,   28,    7,    7,  144],\n",
       "       [  31,   49,   23,  105,   27, 4139,   68,    4,   46,   14],\n",
       "       [  29,   14,   20,    0,   31,   61, 4783,    0,   13,    0],\n",
       "       [  10,   35,   47,   15,   65,   13,    1, 4861,    9,  119],\n",
       "       [  12,   85,   41,   81,   29,  105,   31,   13, 4401,   44],\n",
       "       [  23,   16,   21,   69,  149,   22,    1,  110,   31, 4546]])"
      ]
     },
     "execution_count": 37,
     "metadata": {},
     "output_type": "execute_result"
    }
   ],
   "source": [
    "confusion_matrix(Y_train,TrainingSVM) #Confusion Matrix for training"
   ]
  },
  {
   "cell_type": "code",
   "execution_count": 39,
   "metadata": {},
   "outputs": [
    {
     "data": {
      "text/plain": [
       "0.9352"
      ]
     },
     "execution_count": 39,
     "metadata": {},
     "output_type": "execute_result"
    }
   ],
   "source": [
    "classifier1.fit(X_val, Y_val)\n",
    "ValSVM1 = classifier1.predict(X_val)\n",
    "accuracy_score(Y_val,ValSVM1) #SVM linear kernel validation"
   ]
  },
  {
   "cell_type": "code",
   "execution_count": 40,
   "metadata": {
    "scrolled": true
   },
   "outputs": [
    {
     "data": {
      "text/plain": [
       "array([[ 971,    0,    4,    2,    1,    2,    3,    2,    5,    1],\n",
       "       [   0, 1044,    5,    2,    1,    3,    2,    1,    4,    2],\n",
       "       [   6,    6,  908,    5,   14,    4,   14,   10,   18,    5],\n",
       "       [   2,    5,   12,  927,    0,   42,    3,    5,   22,   12],\n",
       "       [   1,    9,    2,    0,  935,    0,    2,    2,    2,   30],\n",
       "       [   7,   13,    8,   22,    8,  830,   12,    3,    6,    6],\n",
       "       [   3,    2,    6,    0,    3,   13,  939,    0,    1,    0],\n",
       "       [   0,   15,   12,    1,   12,    1,    0, 1026,    1,   22],\n",
       "       [   4,   27,   11,   15,    4,   23,    4,    7,  903,   11],\n",
       "       [   5,    6,    6,   14,   24,    5,    0,   29,    3,  869]])"
      ]
     },
     "execution_count": 40,
     "metadata": {},
     "output_type": "execute_result"
    }
   ],
   "source": [
    "confusion_matrix(Y_val,ValSVM1) #Confusion Matrix for validation"
   ]
  },
  {
   "cell_type": "code",
   "execution_count": 41,
   "metadata": {},
   "outputs": [
    {
     "data": {
      "text/plain": [
       "0.9211"
      ]
     },
     "execution_count": 41,
     "metadata": {},
     "output_type": "execute_result"
    }
   ],
   "source": [
    "TestSVM1 = classifier1.predict(X_test)\n",
    "accuracy_score(Y_test,TestSVM1) #SVM linear kernel testing"
   ]
  },
  {
   "cell_type": "code",
   "execution_count": 42,
   "metadata": {},
   "outputs": [
    {
     "data": {
      "text/plain": [
       "array([[ 963,    0,    2,    0,    1,    6,    4,    2,    2,    0],\n",
       "       [   0, 1116,    2,    2,    0,    2,    4,    0,    9,    0],\n",
       "       [  12,    4,  912,   15,   20,    1,   19,   17,   30,    2],\n",
       "       [   3,    5,   20,  915,    0,   24,    3,   15,   17,    8],\n",
       "       [   1,    2,    3,    0,  922,    2,   10,    1,    3,   38],\n",
       "       [   9,   10,    5,   31,   13,  793,   15,    2,   10,    4],\n",
       "       [  12,    3,    8,    1,    7,   14,  912,    0,    1,    0],\n",
       "       [   2,   20,   21,    2,   14,    0,    0,  932,    7,   30],\n",
       "       [   5,    7,   10,   21,   10,   31,   13,    9,  857,   11],\n",
       "       [  10,   10,    3,   10,   46,    8,    1,   21,   11,  889]])"
      ]
     },
     "execution_count": 42,
     "metadata": {},
     "output_type": "execute_result"
    }
   ],
   "source": [
    "confusion_matrix(Y_test,TestSVM1) #Confusion Matrix for testing"
   ]
  },
  {
   "cell_type": "code",
   "execution_count": 43,
   "metadata": {},
   "outputs": [
    {
     "data": {
      "text/plain": [
       "0.3714185709285464"
      ]
     },
     "execution_count": 43,
     "metadata": {},
     "output_type": "execute_result"
    }
   ],
   "source": [
    "TestSVM2 = classifier1.predict(USPSMat)\n",
    "accuracy_score(USPSTar,TestSVM2) #SVM linear kernel USPS dataset"
   ]
  },
  {
   "cell_type": "code",
   "execution_count": 44,
   "metadata": {},
   "outputs": [
    {
     "data": {
      "text/plain": [
       "array([[ 544,    7,  375,   20,  362,  257,   65,   73,   10,  287],\n",
       "       [  62,  543,  150,   78,  271,  208,   45,  615,   21,    7],\n",
       "       [ 138,   40, 1219,   58,   55,  286,   60,   97,   31,   15],\n",
       "       [  80,    6,  156,  929,   23,  609,   10,  105,   41,   41],\n",
       "       [  14,  119,   39,   10, 1159,  279,   16,  213,   57,   94],\n",
       "       [  97,   29,  168,   85,   23, 1465,   47,   58,   16,   12],\n",
       "       [ 227,   14,  358,   19,  104,  541,  669,   25,   14,   29],\n",
       "       [  41,  371,  325,  170,   79,  410,   29,  489,   50,   36],\n",
       "       [  55,   44,  176,  128,  146, 1015,   79,   58,  265,   34],\n",
       "       [  18,  240,  215,  196,  220,  188,   10,  578,  189,  146]])"
      ]
     },
     "execution_count": 44,
     "metadata": {},
     "output_type": "execute_result"
    }
   ],
   "source": [
    "confusion_matrix(USPSTar,TestSVM2) #Confusion Matrix for USPS dataset"
   ]
  },
  {
   "cell_type": "markdown",
   "metadata": {},
   "source": [
    "# SVM with radial basis function and gamma = 1"
   ]
  },
  {
   "cell_type": "code",
   "execution_count": 28,
   "metadata": {},
   "outputs": [],
   "source": [
    "classifier1 = SVC(kernel='rbf', gamma = 1) \n",
    "classifier1.fit(X_train, Y_train)  \n",
    "TrainingSVM1 = classifier1.predict(X_train)"
   ]
  },
  {
   "cell_type": "code",
   "execution_count": 29,
   "metadata": {},
   "outputs": [
    {
     "data": {
      "text/plain": [
       "1.0"
      ]
     },
     "execution_count": 29,
     "metadata": {},
     "output_type": "execute_result"
    }
   ],
   "source": [
    "accuracy_score(Y_train,TrainingSVM1) #SVM rbf kernel and gamma = 1 training"
   ]
  },
  {
   "cell_type": "code",
   "execution_count": 36,
   "metadata": {},
   "outputs": [
    {
     "data": {
      "text/plain": [
       "array([[4932,    0,    0,    0,    0,    0,    0,    0,    0,    0],\n",
       "       [   0, 5678,    0,    0,    0,    0,    0,    0,    0,    0],\n",
       "       [   0,    0, 4968,    0,    0,    0,    0,    0,    0,    0],\n",
       "       [   0,    0,    0, 5101,    0,    0,    0,    0,    0,    0],\n",
       "       [   0,    0,    0,    0, 4859,    0,    0,    0,    0,    0],\n",
       "       [   0,    0,    0,    0,    0, 4506,    0,    0,    0,    0],\n",
       "       [   0,    0,    0,    0,    0,    0, 4951,    0,    0,    0],\n",
       "       [   0,    0,    0,    0,    0,    0,    0, 5175,    0,    0],\n",
       "       [   0,    0,    0,    0,    0,    0,    0,    0, 4842,    0],\n",
       "       [   0,    0,    0,    0,    0,    0,    0,    0,    0, 4988]])"
      ]
     },
     "execution_count": 36,
     "metadata": {},
     "output_type": "execute_result"
    }
   ],
   "source": [
    "confusion_matrix(Y_train,TrainingSVM1) #Confusion Matrix for training"
   ]
  },
  {
   "cell_type": "code",
   "execution_count": 30,
   "metadata": {},
   "outputs": [
    {
     "data": {
      "text/plain": [
       "1.0"
      ]
     },
     "execution_count": 30,
     "metadata": {},
     "output_type": "execute_result"
    }
   ],
   "source": [
    "classifier1.fit(X_val, Y_val)\n",
    "ValSVM = classifier1.predict(X_val)\n",
    "accuracy_score(Y_val,ValSVM) #SVM rbf kernel and gamma = 1 validation"
   ]
  },
  {
   "cell_type": "code",
   "execution_count": 45,
   "metadata": {},
   "outputs": [
    {
     "data": {
      "text/plain": [
       "array([[ 991,    0,    0,    0,    0,    0,    0,    0,    0,    0],\n",
       "       [   0, 1064,    0,    0,    0,    0,    0,    0,    0,    0],\n",
       "       [   0,    0,  990,    0,    0,    0,    0,    0,    0,    0],\n",
       "       [   0,    0,    0, 1030,    0,    0,    0,    0,    0,    0],\n",
       "       [   0,    0,    0,    0,  983,    0,    0,    0,    0,    0],\n",
       "       [   0,    0,    0,    0,    0,  915,    0,    0,    0,    0],\n",
       "       [   0,    0,    0,    0,    0,    0,  967,    0,    0,    0],\n",
       "       [   0,    0,    0,    0,    0,    0,    0, 1090,    0,    0],\n",
       "       [   0,    0,    0,    0,    0,    0,    0,    0, 1009,    0],\n",
       "       [   0,    0,    0,    0,    0,    0,    0,    0,    0,  961]])"
      ]
     },
     "execution_count": 45,
     "metadata": {},
     "output_type": "execute_result"
    }
   ],
   "source": [
    "confusion_matrix(Y_val,ValSVM) #Confusion Matrix for validation"
   ]
  },
  {
   "cell_type": "code",
   "execution_count": 47,
   "metadata": {
    "scrolled": true
   },
   "outputs": [
    {
     "data": {
      "text/plain": [
       "0.9211"
      ]
     },
     "execution_count": 47,
     "metadata": {},
     "output_type": "execute_result"
    }
   ],
   "source": [
    "TestSVM = classifier1.predict(X_test)\n",
    "accuracy_score(Y_test,TestSVM) #SVM rbf kernel and gamma = 1 testing"
   ]
  },
  {
   "cell_type": "code",
   "execution_count": 48,
   "metadata": {},
   "outputs": [
    {
     "data": {
      "text/plain": [
       "array([[ 963,    0,    2,    0,    1,    6,    4,    2,    2,    0],\n",
       "       [   0, 1116,    2,    2,    0,    2,    4,    0,    9,    0],\n",
       "       [  12,    4,  912,   15,   20,    1,   19,   17,   30,    2],\n",
       "       [   3,    5,   20,  915,    0,   24,    3,   15,   17,    8],\n",
       "       [   1,    2,    3,    0,  922,    2,   10,    1,    3,   38],\n",
       "       [   9,   10,    5,   31,   13,  793,   15,    2,   10,    4],\n",
       "       [  12,    3,    8,    1,    7,   14,  912,    0,    1,    0],\n",
       "       [   2,   20,   21,    2,   14,    0,    0,  932,    7,   30],\n",
       "       [   5,    7,   10,   21,   10,   31,   13,    9,  857,   11],\n",
       "       [  10,   10,    3,   10,   46,    8,    1,   21,   11,  889]])"
      ]
     },
     "execution_count": 48,
     "metadata": {},
     "output_type": "execute_result"
    }
   ],
   "source": [
    "confusion_matrix(Y_test,TestSVM) #Confusion Matrix for testing"
   ]
  },
  {
   "cell_type": "code",
   "execution_count": 32,
   "metadata": {},
   "outputs": [
    {
     "data": {
      "text/plain": [
       "0.10000500025001251"
      ]
     },
     "execution_count": 32,
     "metadata": {},
     "output_type": "execute_result"
    }
   ],
   "source": [
    "TestSVM = classifier1.predict(USPSMat)\n",
    "accuracy_score(USPSTar,TestSVM) #SVM rbf kernel and gamma = 1 USPS dataset"
   ]
  },
  {
   "cell_type": "code",
   "execution_count": null,
   "metadata": {},
   "outputs": [],
   "source": [
    "confusion_matrix(USPSTar,TestSVM) #Confusion Matrix for USPS dataset"
   ]
  },
  {
   "cell_type": "markdown",
   "metadata": {},
   "source": [
    "# SVM rbf kernel"
   ]
  },
  {
   "cell_type": "code",
   "execution_count": 34,
   "metadata": {},
   "outputs": [
    {
     "data": {
      "text/plain": [
       "0.93998"
      ]
     },
     "execution_count": 34,
     "metadata": {},
     "output_type": "execute_result"
    }
   ],
   "source": [
    "classifier1 = SVC(kernel='rbf') \n",
    "classifier1.fit(X_train, Y_train)  \n",
    "TrainingSVM = classifier1.predict(X_train)\n",
    "accuracy_score(Y_train,TrainingSVM) #SVM rbf kernel training"
   ]
  },
  {
   "cell_type": "code",
   "execution_count": 35,
   "metadata": {},
   "outputs": [
    {
     "data": {
      "text/plain": [
       "array([[4822,    1,   16,    8,   13,   25,   18,    3,   23,    3],\n",
       "       [   2, 5562,   34,   17,    7,   15,    3,    8,   23,    7],\n",
       "       [  31,   25, 4614,   39,   64,   22,   53,   44,   66,   10],\n",
       "       [  13,   32,  100, 4647,    2,  149,   18,   51,   66,   23],\n",
       "       [   9,   10,   25,    0, 4624,    5,   28,    7,    7,  144],\n",
       "       [  31,   49,   23,  105,   27, 4139,   68,    4,   46,   14],\n",
       "       [  29,   14,   20,    0,   31,   61, 4783,    0,   13,    0],\n",
       "       [  10,   35,   47,   15,   65,   13,    1, 4861,    9,  119],\n",
       "       [  12,   85,   41,   81,   29,  105,   31,   13, 4401,   44],\n",
       "       [  23,   16,   21,   69,  149,   22,    1,  110,   31, 4546]])"
      ]
     },
     "execution_count": 35,
     "metadata": {},
     "output_type": "execute_result"
    }
   ],
   "source": [
    "confusion_matrix(Y_train,TrainingSVM) #Confusion Matrix for training"
   ]
  },
  {
   "cell_type": "code",
   "execution_count": 13,
   "metadata": {},
   "outputs": [
    {
     "data": {
      "text/plain": [
       "0.9352"
      ]
     },
     "execution_count": 13,
     "metadata": {},
     "output_type": "execute_result"
    }
   ],
   "source": [
    "classifier1.fit(X_val, Y_val)\n",
    "ValSVM = classifier1.predict(X_val)\n",
    "accuracy_score(Y_val,ValSVM) #SVM rbf kernel validation"
   ]
  },
  {
   "cell_type": "code",
   "execution_count": null,
   "metadata": {},
   "outputs": [],
   "source": [
    "confusion_matrix(Y_val,ValSVM) #Confusion Matrix for validation"
   ]
  },
  {
   "cell_type": "code",
   "execution_count": 14,
   "metadata": {},
   "outputs": [
    {
     "data": {
      "text/plain": [
       "0.9211"
      ]
     },
     "execution_count": 14,
     "metadata": {},
     "output_type": "execute_result"
    }
   ],
   "source": [
    "TestSVM = classifier1.predict(X_test)\n",
    "accuracy_score(Y_test,TestSVM) #SVM rbf kernel testing"
   ]
  },
  {
   "cell_type": "code",
   "execution_count": null,
   "metadata": {},
   "outputs": [],
   "source": [
    "confusion_matrix(Y_test,TestSVM) #Confusion Matrix for testing"
   ]
  },
  {
   "cell_type": "code",
   "execution_count": 83,
   "metadata": {},
   "outputs": [
    {
     "ename": "ValueError",
     "evalue": "Found input variables with inconsistent numbers of samples: [19999, 10000]",
     "output_type": "error",
     "traceback": [
      "\u001b[0;31m---------------------------------------------------------------------------\u001b[0m",
      "\u001b[0;31mValueError\u001b[0m                                Traceback (most recent call last)",
      "\u001b[0;32m<ipython-input-83-57bb0d694c40>\u001b[0m in \u001b[0;36m<module>\u001b[0;34m()\u001b[0m\n\u001b[1;32m      1\u001b[0m \u001b[0mTestSVMUS\u001b[0m \u001b[0;34m=\u001b[0m \u001b[0mclassifier1\u001b[0m\u001b[0;34m.\u001b[0m\u001b[0mpredict\u001b[0m\u001b[0;34m(\u001b[0m\u001b[0mUSPSMat\u001b[0m\u001b[0;34m)\u001b[0m\u001b[0;34m\u001b[0m\u001b[0m\n\u001b[0;32m----> 2\u001b[0;31m \u001b[0maccuracy_score\u001b[0m\u001b[0;34m(\u001b[0m\u001b[0mUSPSTar\u001b[0m\u001b[0;34m,\u001b[0m\u001b[0mTestSVM\u001b[0m\u001b[0;34m)\u001b[0m \u001b[0;31m#SVM rbf kernel USPS dataset\u001b[0m\u001b[0;34m\u001b[0m\u001b[0m\n\u001b[0m",
      "\u001b[0;32m~/tensorflow/venv/lib/python3.6/site-packages/sklearn/metrics/classification.py\u001b[0m in \u001b[0;36maccuracy_score\u001b[0;34m(y_true, y_pred, normalize, sample_weight)\u001b[0m\n\u001b[1;32m    174\u001b[0m \u001b[0;34m\u001b[0m\u001b[0m\n\u001b[1;32m    175\u001b[0m     \u001b[0;31m# Compute accuracy for each possible representation\u001b[0m\u001b[0;34m\u001b[0m\u001b[0;34m\u001b[0m\u001b[0m\n\u001b[0;32m--> 176\u001b[0;31m     \u001b[0my_type\u001b[0m\u001b[0;34m,\u001b[0m \u001b[0my_true\u001b[0m\u001b[0;34m,\u001b[0m \u001b[0my_pred\u001b[0m \u001b[0;34m=\u001b[0m \u001b[0m_check_targets\u001b[0m\u001b[0;34m(\u001b[0m\u001b[0my_true\u001b[0m\u001b[0;34m,\u001b[0m \u001b[0my_pred\u001b[0m\u001b[0;34m)\u001b[0m\u001b[0;34m\u001b[0m\u001b[0m\n\u001b[0m\u001b[1;32m    177\u001b[0m     \u001b[0;32mif\u001b[0m \u001b[0my_type\u001b[0m\u001b[0;34m.\u001b[0m\u001b[0mstartswith\u001b[0m\u001b[0;34m(\u001b[0m\u001b[0;34m'multilabel'\u001b[0m\u001b[0;34m)\u001b[0m\u001b[0;34m:\u001b[0m\u001b[0;34m\u001b[0m\u001b[0m\n\u001b[1;32m    178\u001b[0m         \u001b[0mdiffering_labels\u001b[0m \u001b[0;34m=\u001b[0m \u001b[0mcount_nonzero\u001b[0m\u001b[0;34m(\u001b[0m\u001b[0my_true\u001b[0m \u001b[0;34m-\u001b[0m \u001b[0my_pred\u001b[0m\u001b[0;34m,\u001b[0m \u001b[0maxis\u001b[0m\u001b[0;34m=\u001b[0m\u001b[0;36m1\u001b[0m\u001b[0;34m)\u001b[0m\u001b[0;34m\u001b[0m\u001b[0m\n",
      "\u001b[0;32m~/tensorflow/venv/lib/python3.6/site-packages/sklearn/metrics/classification.py\u001b[0m in \u001b[0;36m_check_targets\u001b[0;34m(y_true, y_pred)\u001b[0m\n\u001b[1;32m     69\u001b[0m     \u001b[0my_pred\u001b[0m \u001b[0;34m:\u001b[0m \u001b[0marray\u001b[0m \u001b[0;32mor\u001b[0m \u001b[0mindicator\u001b[0m \u001b[0mmatrix\u001b[0m\u001b[0;34m\u001b[0m\u001b[0m\n\u001b[1;32m     70\u001b[0m     \"\"\"\n\u001b[0;32m---> 71\u001b[0;31m     \u001b[0mcheck_consistent_length\u001b[0m\u001b[0;34m(\u001b[0m\u001b[0my_true\u001b[0m\u001b[0;34m,\u001b[0m \u001b[0my_pred\u001b[0m\u001b[0;34m)\u001b[0m\u001b[0;34m\u001b[0m\u001b[0m\n\u001b[0m\u001b[1;32m     72\u001b[0m     \u001b[0mtype_true\u001b[0m \u001b[0;34m=\u001b[0m \u001b[0mtype_of_target\u001b[0m\u001b[0;34m(\u001b[0m\u001b[0my_true\u001b[0m\u001b[0;34m)\u001b[0m\u001b[0;34m\u001b[0m\u001b[0m\n\u001b[1;32m     73\u001b[0m     \u001b[0mtype_pred\u001b[0m \u001b[0;34m=\u001b[0m \u001b[0mtype_of_target\u001b[0m\u001b[0;34m(\u001b[0m\u001b[0my_pred\u001b[0m\u001b[0;34m)\u001b[0m\u001b[0;34m\u001b[0m\u001b[0m\n",
      "\u001b[0;32m~/tensorflow/venv/lib/python3.6/site-packages/sklearn/utils/validation.py\u001b[0m in \u001b[0;36mcheck_consistent_length\u001b[0;34m(*arrays)\u001b[0m\n\u001b[1;32m    202\u001b[0m     \u001b[0;32mif\u001b[0m \u001b[0mlen\u001b[0m\u001b[0;34m(\u001b[0m\u001b[0muniques\u001b[0m\u001b[0;34m)\u001b[0m \u001b[0;34m>\u001b[0m \u001b[0;36m1\u001b[0m\u001b[0;34m:\u001b[0m\u001b[0;34m\u001b[0m\u001b[0m\n\u001b[1;32m    203\u001b[0m         raise ValueError(\"Found input variables with inconsistent numbers of\"\n\u001b[0;32m--> 204\u001b[0;31m                          \" samples: %r\" % [int(l) for l in lengths])\n\u001b[0m\u001b[1;32m    205\u001b[0m \u001b[0;34m\u001b[0m\u001b[0m\n\u001b[1;32m    206\u001b[0m \u001b[0;34m\u001b[0m\u001b[0m\n",
      "\u001b[0;31mValueError\u001b[0m: Found input variables with inconsistent numbers of samples: [19999, 10000]"
     ]
    }
   ],
   "source": [
    "TestSVMUS = classifier1.predict(USPSMat)\n",
    "accuracy_score(USPSTar,TestSVM) #SVM rbf kernel USPS dataset"
   ]
  },
  {
   "cell_type": "code",
   "execution_count": null,
   "metadata": {},
   "outputs": [],
   "source": [
    "confusion_matrix(USPSTar,TestSVM) #Confusion Matrix for USPS dataset"
   ]
  },
  {
   "cell_type": "markdown",
   "metadata": {},
   "source": [
    "# Random Forest"
   ]
  },
  {
   "cell_type": "code",
   "execution_count": 77,
   "metadata": {},
   "outputs": [
    {
     "data": {
      "text/plain": [
       "0.99922"
      ]
     },
     "execution_count": 77,
     "metadata": {},
     "output_type": "execute_result"
    }
   ],
   "source": [
    "classifier2 = RandomForestClassifier(n_estimators = 10)\n",
    "classifier2.fit(X_train, Y_train)  \n",
    "TrainingRF = classifier2.predict(X_train)\n",
    "accuracy_score(Y_train,TrainingRF) #Training accuracy "
   ]
  },
  {
   "cell_type": "code",
   "execution_count": 78,
   "metadata": {},
   "outputs": [
    {
     "data": {
      "text/plain": [
       "array([[4931,    0,    0,    0,    0,    1,    0,    0,    0,    0],\n",
       "       [   0, 5677,    1,    0,    0,    0,    0,    0,    0,    0],\n",
       "       [   0,    0, 4966,    0,    0,    0,    1,    1,    0,    0],\n",
       "       [   0,    0,    1, 5093,    0,    2,    1,    0,    3,    1],\n",
       "       [   0,    0,    1,    0, 4855,    0,    1,    0,    1,    1],\n",
       "       [   0,    0,    0,    2,    0, 4502,    0,    0,    1,    1],\n",
       "       [   0,    1,    0,    0,    0,    0, 4950,    0,    0,    0],\n",
       "       [   0,    1,    0,    0,    2,    0,    0, 5171,    0,    1],\n",
       "       [   0,    0,    2,    2,    0,    1,    0,    1, 4834,    2],\n",
       "       [   0,    0,    0,    1,    1,    3,    1,    0,    0, 4982]])"
      ]
     },
     "execution_count": 78,
     "metadata": {},
     "output_type": "execute_result"
    }
   ],
   "source": [
    "confusion_matrix(Y_train,TrainingRF) #Confusion Matrix for training"
   ]
  },
  {
   "cell_type": "code",
   "execution_count": 79,
   "metadata": {},
   "outputs": [
    {
     "data": {
      "text/plain": [
       "0.9984"
      ]
     },
     "execution_count": 79,
     "metadata": {},
     "output_type": "execute_result"
    }
   ],
   "source": [
    "classifier2.fit(X_val, Y_val)  \n",
    "ValRF = classifier2.predict(X_val)\n",
    "accuracy_score(Y_val,ValRF) #Validation accuracy"
   ]
  },
  {
   "cell_type": "code",
   "execution_count": 80,
   "metadata": {},
   "outputs": [
    {
     "data": {
      "text/plain": [
       "array([[ 991,    0,    0,    0,    0,    0,    0,    0,    0,    0],\n",
       "       [   0, 1064,    0,    0,    0,    0,    0,    0,    0,    0],\n",
       "       [   0,    0,  990,    0,    0,    0,    0,    0,    0,    0],\n",
       "       [   0,    0,    0, 1029,    0,    1,    0,    0,    0,    0],\n",
       "       [   0,    0,    0,    0,  983,    0,    0,    0,    0,    0],\n",
       "       [   0,    0,    1,    2,    0,  912,    0,    0,    0,    0],\n",
       "       [   1,    0,    0,    0,    0,    0,  966,    0,    0,    0],\n",
       "       [   0,    1,    0,    0,    0,    0,    0, 1087,    0,    2],\n",
       "       [   0,    1,    0,    0,    0,    1,    0,    0, 1007,    0],\n",
       "       [   2,    0,    0,    0,    3,    0,    0,    0,    1,  955]])"
      ]
     },
     "execution_count": 80,
     "metadata": {},
     "output_type": "execute_result"
    }
   ],
   "source": [
    "confusion_matrix(Y_val,ValRF) #Confusion Matrix for validation"
   ]
  },
  {
   "cell_type": "code",
   "execution_count": 81,
   "metadata": {},
   "outputs": [
    {
     "data": {
      "text/plain": [
       "0.9089"
      ]
     },
     "execution_count": 81,
     "metadata": {},
     "output_type": "execute_result"
    }
   ],
   "source": [
    "ValRF = classifier2.predict(X_test)\n",
    "accuracy_score(Y_test,ValRF) #Testing accuracy"
   ]
  },
  {
   "cell_type": "code",
   "execution_count": 82,
   "metadata": {},
   "outputs": [
    {
     "data": {
      "text/plain": [
       "array([[ 959,    1,    3,    1,    2,    5,    6,    1,    2,    0],\n",
       "       [   0, 1115,    3,    2,    1,    3,    3,    2,    6,    0],\n",
       "       [  13,    7,  953,   15,   10,    2,    9,    9,   11,    3],\n",
       "       [  11,    8,   24,  885,    3,   35,    5,   13,   23,    3],\n",
       "       [   2,    2,    9,    5,  905,    3,    8,    6,    7,   35],\n",
       "       [  14,    4,    7,   55,   13,  760,   18,    5,   11,    5],\n",
       "       [  25,    4,   11,    5,   12,   21,  878,    0,    2,    0],\n",
       "       [   1,   14,   32,    5,   11,    4,    0,  931,   10,   20],\n",
       "       [   5,    5,   21,   33,   13,   31,   18,    7,  829,   12],\n",
       "       [   9,    7,   10,   16,   51,   17,    2,   12,   11,  874]])"
      ]
     },
     "execution_count": 82,
     "metadata": {},
     "output_type": "execute_result"
    }
   ],
   "source": [
    "confusion_matrix(Y_test,ValRF) #Confusion Matrix for testing"
   ]
  },
  {
   "cell_type": "code",
   "execution_count": 86,
   "metadata": {},
   "outputs": [
    {
     "data": {
      "text/plain": [
       "0.2745137256862843"
      ]
     },
     "execution_count": 86,
     "metadata": {},
     "output_type": "execute_result"
    }
   ],
   "source": [
    "TrainingUSRF = classifier2.predict(USPSMat)\n",
    "accuracy_score(USPSTar,TrainingUSRF) #Accuracy with USPS dataset"
   ]
  },
  {
   "cell_type": "code",
   "execution_count": 87,
   "metadata": {},
   "outputs": [
    {
     "data": {
      "text/plain": [
       "array([[603,  90, 268,  81, 279, 332, 103,  99,  10, 135],\n",
       "       [ 45, 549, 140,  94, 117, 113,  58, 843,  15,  26],\n",
       "       [243, 131, 679, 110,  88, 347, 118, 196,  30,  57],\n",
       "       [156, 114, 180, 684, 122, 435,  31, 178,  25,  75],\n",
       "       [ 27, 242, 132,  65, 830, 204,  47, 314,  47,  92],\n",
       "       [204, 129, 152, 229,  67, 971,  69,  94,  25,  60],\n",
       "       [441, 115, 307,  86, 119, 333, 417, 118,  24,  40],\n",
       "       [ 90, 562, 240, 134,  79, 194,  51, 482,  45, 123],\n",
       "       [146, 203, 265, 221, 139, 611, 105,  69, 144,  97],\n",
       "       [ 68, 324, 301, 270, 203, 183,  27, 418,  75, 131]])"
      ]
     },
     "execution_count": 87,
     "metadata": {},
     "output_type": "execute_result"
    }
   ],
   "source": [
    "confusion_matrix(USPSTar,TrainingUSRF) #Confusion Matrix for USPS dataset"
   ]
  },
  {
   "cell_type": "markdown",
   "metadata": {},
   "source": [
    "# Convolutional Neural Network"
   ]
  },
  {
   "cell_type": "code",
   "execution_count": 50,
   "metadata": {},
   "outputs": [],
   "source": [
    "#INITIAL VARIABLES FOR CNN\n",
    "num_classes = 10  \n",
    "#image_vector_size = 28*28  \n",
    "image_size = 784 \n",
    "#input_shape = (1, 28, 28)\n",
    "NNX_train = X_train.reshape(X_train.shape[0], 28, 28, 1).astype('float32')\n",
    "NNX_val = X_val.reshape(X_val.shape[0], 28, 28, 1).astype('float32')\n",
    "NNX_test = X_test.reshape(X_test.shape[0], 28, 28, 1).astype('float32')\n",
    "NNY_train = keras.utils.to_categorical(Y_train, num_classes) \n",
    "NNY_val = keras.utils.to_categorical(Y_val, num_classes) \n",
    "NNY_test = keras.utils.to_categorical(Y_test, num_classes) \n",
    "NNX_train = NNX_train / 255\n",
    "NNX_val = NNX_val / 255\n",
    "NNX_test = NNX_test / 255\n",
    "USPSMatnp = np.asarray(USPSMat)\n",
    "NNUSX_train = USPSMatnp.reshape(USPSMatnp.shape[0], 28, 28, 1).astype('float32')\n",
    "num_classes = NNY_test.shape[1]"
   ]
  },
  {
   "cell_type": "code",
   "execution_count": 51,
   "metadata": {},
   "outputs": [],
   "source": [
    "#MODEL DEFINATION\n",
    "def baseline_model():\n",
    "    model = Sequential()\n",
    "    model.add(Conv2D(32, (5, 5), input_shape=(28, 28, 1), activation='relu'))\n",
    "    model.add(MaxPooling2D(pool_size=(2, 2)))\n",
    "    model.add(Dropout(0.2))\n",
    "    model.add(Flatten())\n",
    "    model.add(Dense(128, activation='relu'))\n",
    "    model.add(Dense(num_classes, activation='softmax'))\n",
    "    # Compile model\n",
    "    model.compile(loss='categorical_crossentropy', optimizer='adam', metrics=['accuracy'])\n",
    "    return model"
   ]
  },
  {
   "cell_type": "code",
   "execution_count": 53,
   "metadata": {},
   "outputs": [
    {
     "name": "stdout",
     "output_type": "stream",
     "text": [
      "Train on 50000 samples, validate on 10000 samples\n",
      "Epoch 1/20\n",
      " - 22s - loss: 1.3988 - acc: 0.6003 - val_loss: 0.5411 - val_acc: 0.8558\n",
      "Epoch 2/20\n",
      " - 23s - loss: 0.4686 - acc: 0.8652 - val_loss: 0.3737 - val_acc: 0.8921\n",
      "Epoch 3/20\n",
      " - 22s - loss: 0.3733 - acc: 0.8884 - val_loss: 0.3189 - val_acc: 0.9051\n",
      "Epoch 4/20\n",
      " - 22s - loss: 0.3279 - acc: 0.9030 - val_loss: 0.2812 - val_acc: 0.9160\n",
      "Epoch 5/20\n",
      " - 23s - loss: 0.2931 - acc: 0.9119 - val_loss: 0.2517 - val_acc: 0.9232\n",
      "Epoch 6/20\n",
      " - 25s - loss: 0.2623 - acc: 0.9204 - val_loss: 0.2246 - val_acc: 0.9326\n",
      "Epoch 7/20\n",
      " - 24s - loss: 0.2360 - acc: 0.9288 - val_loss: 0.2011 - val_acc: 0.9389\n",
      "Epoch 8/20\n",
      " - 23s - loss: 0.2104 - acc: 0.9368 - val_loss: 0.1831 - val_acc: 0.9434\n",
      "Epoch 9/20\n",
      " - 23s - loss: 0.1878 - acc: 0.9442 - val_loss: 0.1603 - val_acc: 0.9523\n",
      "Epoch 10/20\n",
      " - 23s - loss: 0.1707 - acc: 0.9493 - val_loss: 0.1516 - val_acc: 0.9566\n",
      "Epoch 11/20\n",
      " - 22s - loss: 0.1550 - acc: 0.9537 - val_loss: 0.1346 - val_acc: 0.9599\n",
      "Epoch 12/20\n",
      " - 24s - loss: 0.1409 - acc: 0.9581 - val_loss: 0.1233 - val_acc: 0.9653\n",
      "Epoch 13/20\n",
      " - 22s - loss: 0.1283 - acc: 0.9617 - val_loss: 0.1142 - val_acc: 0.9671\n",
      "Epoch 14/20\n",
      " - 23s - loss: 0.1188 - acc: 0.9641 - val_loss: 0.1058 - val_acc: 0.9685\n",
      "Epoch 15/20\n",
      " - 23s - loss: 0.1100 - acc: 0.9670 - val_loss: 0.0996 - val_acc: 0.9707\n",
      "Epoch 16/20\n",
      " - 23s - loss: 0.1032 - acc: 0.9688 - val_loss: 0.0892 - val_acc: 0.9745\n",
      "Epoch 17/20\n",
      " - 23s - loss: 0.0954 - acc: 0.9723 - val_loss: 0.0863 - val_acc: 0.9742\n",
      "Epoch 18/20\n",
      " - 23s - loss: 0.0909 - acc: 0.9724 - val_loss: 0.0798 - val_acc: 0.9749\n",
      "Epoch 19/20\n",
      " - 24s - loss: 0.0859 - acc: 0.9738 - val_loss: 0.0772 - val_acc: 0.9756\n",
      "Epoch 20/20\n",
      " - 23s - loss: 0.0828 - acc: 0.9752 - val_loss: 0.0754 - val_acc: 0.9766\n"
     ]
    },
    {
     "data": {
      "text/plain": [
       "<keras.callbacks.History at 0x7fbcd8413b38>"
      ]
     },
     "execution_count": 53,
     "metadata": {},
     "output_type": "execute_result"
    }
   ],
   "source": [
    "# build the model\n",
    "model = baseline_model()\n",
    "# Fit the model\n",
    "model.fit(NNX_train, NNY_train, validation_data=(NNX_test, NNY_test), epochs=20, batch_size=200, verbose=2)"
   ]
  },
  {
   "cell_type": "code",
   "execution_count": 54,
   "metadata": {},
   "outputs": [
    {
     "data": {
      "text/plain": [
       "0.97948"
      ]
     },
     "execution_count": 54,
     "metadata": {},
     "output_type": "execute_result"
    }
   ],
   "source": [
    "PredictNN = model.predict(NNX_train)\n",
    "PredNN = []\n",
    "for i in range(0,50000):\n",
    "    PredNN.append(np.argmax(PredictNN[i]))\n",
    "    \n",
    "accuracy_score(training_data[1],PredNN) #Training Accuracy\n"
   ]
  },
  {
   "cell_type": "code",
   "execution_count": 55,
   "metadata": {},
   "outputs": [
    {
     "data": {
      "text/plain": [
       "array([[4889,    2,    2,    1,    1,    5,   15,    2,    9,    6],\n",
       "       [   1, 5637,   14,    6,    5,    0,    0,    6,    5,    4],\n",
       "       [  11,   35, 4833,   20,   10,    0,    3,   34,   17,    5],\n",
       "       [   5,   14,   20, 4966,    0,   27,    1,   22,   25,   21],\n",
       "       [   4,   12,    7,    1, 4763,    0,   17,    5,    6,   44],\n",
       "       [   5,    7,    3,   25,    3, 4412,   18,    5,   10,   18],\n",
       "       [  15,    9,    2,    0,    7,    9, 4903,    0,    6,    0],\n",
       "       [   3,   19,   17,    8,   14,    1,    0, 5064,    4,   45],\n",
       "       [  10,   45,    7,   40,   15,   21,   21,    6, 4646,   31],\n",
       "       [   9,    9,    0,   16,   47,    9,    2,   28,    7, 4861]])"
      ]
     },
     "execution_count": 55,
     "metadata": {},
     "output_type": "execute_result"
    }
   ],
   "source": [
    "confusion_matrix(training_data[1],PredNN) #Confusion Matrix for training"
   ]
  },
  {
   "cell_type": "code",
   "execution_count": 57,
   "metadata": {},
   "outputs": [
    {
     "data": {
      "text/plain": [
       "0.9784"
      ]
     },
     "execution_count": 57,
     "metadata": {},
     "output_type": "execute_result"
    }
   ],
   "source": [
    "PredictNNval = model.predict(NNX_val)\n",
    "PredNN = []\n",
    "for i in range(0,10000):\n",
    "    PredNN.append(np.argmax(PredictNNval[i]))\n",
    "    \n",
    "accuracy_score(validation_data[1],PredNN) #Validation Accuracy\n"
   ]
  },
  {
   "cell_type": "code",
   "execution_count": 58,
   "metadata": {},
   "outputs": [
    {
     "data": {
      "text/plain": [
       "array([[ 982,    0,    1,    0,    0,    1,    1,    1,    1,    4],\n",
       "       [   0, 1057,    3,    1,    1,    0,    0,    1,    0,    1],\n",
       "       [   1,    5,  965,    5,    1,    1,    1,    6,    5,    0],\n",
       "       [   0,    1,    4, 1008,    0,    6,    0,    1,    7,    3],\n",
       "       [   0,    6,    1,    0,  964,    0,    1,    1,    0,   10],\n",
       "       [   2,    0,    2,   10,    1,  878,   13,    1,    2,    6],\n",
       "       [   1,    0,    0,    0,    1,    3,  959,    0,    3,    0],\n",
       "       [   0,    6,    2,    4,    2,    0,    0, 1066,    0,   10],\n",
       "       [   1,    7,    3,    6,    2,    3,    5,    2,  976,    4],\n",
       "       [   2,    3,    0,    6,    8,    3,    0,    8,    2,  929]])"
      ]
     },
     "execution_count": 58,
     "metadata": {},
     "output_type": "execute_result"
    }
   ],
   "source": [
    "confusion_matrix(validation_data[1],PredNN) #Confusion Matrix for validation"
   ]
  },
  {
   "cell_type": "code",
   "execution_count": 59,
   "metadata": {},
   "outputs": [
    {
     "data": {
      "text/plain": [
       "0.9766"
      ]
     },
     "execution_count": 59,
     "metadata": {},
     "output_type": "execute_result"
    }
   ],
   "source": [
    "PredictNNtest = model.predict(NNX_test)\n",
    "PredNN = []\n",
    "for i in range(0,10000):\n",
    "    PredNN.append(np.argmax(PredictNNtest[i]))\n",
    "    \n",
    "accuracy_score(test_data[1],PredNNtest) #Testing Accuracy"
   ]
  },
  {
   "cell_type": "code",
   "execution_count": 60,
   "metadata": {},
   "outputs": [
    {
     "data": {
      "text/plain": [
       "array([[ 973,    0,    1,    1,    0,    0,    1,    1,    3,    0],\n",
       "       [   0, 1127,    2,    1,    0,    1,    2,    0,    2,    0],\n",
       "       [   6,    7, 1001,    4,    1,    0,    1,    8,    4,    0],\n",
       "       [   0,    1,    2,  993,    0,    2,    0,    4,    3,    5],\n",
       "       [   0,    0,    5,    0,  961,    0,    3,    1,    2,   10],\n",
       "       [   2,    1,    0,    8,    1,  868,    6,    1,    3,    2],\n",
       "       [   6,    2,    0,    1,    4,    6,  937,    0,    2,    0],\n",
       "       [   0,   11,    7,    3,    1,    0,    0,  994,    1,   11],\n",
       "       [   5,    2,    1,    6,    4,    3,    2,    4,  942,    5],\n",
       "       [   7,    7,    0,    8,   11,    1,    0,    5,    0,  970]])"
      ]
     },
     "execution_count": 60,
     "metadata": {},
     "output_type": "execute_result"
    }
   ],
   "source": [
    "confusion_matrix(test_data[1],PredNNtest) #Confusion Matrix for testing"
   ]
  },
  {
   "cell_type": "code",
   "execution_count": 61,
   "metadata": {},
   "outputs": [
    {
     "data": {
      "text/plain": [
       "0.43212160608030403"
      ]
     },
     "execution_count": 61,
     "metadata": {},
     "output_type": "execute_result"
    }
   ],
   "source": [
    "PredictNNUS = model.predict(NNUSX_train)\n",
    "PredNNUS = []\n",
    "for i in range(len(USPSMat)):\n",
    "    PredNNUS.append(np.argmax(PredictNNUS[i]))\n",
    "    \n",
    "accuracy_score(USPSTar,PredNNUS) #Accuracy with USPS dataset  "
   ]
  },
  {
   "cell_type": "code",
   "execution_count": 62,
   "metadata": {},
   "outputs": [
    {
     "data": {
      "text/plain": [
       "array([[ 465,    2,   26,  118,  651,   55,   20,  217,  133,  313],\n",
       "       [ 131,  427,  267,  125,  550,   52,   36,  213,  168,   31],\n",
       "       [  45,   19, 1445,  243,   40,   96,   32,   33,   44,    2],\n",
       "       [  25,    5,   65, 1578,    5,  263,    1,   20,   38,    0],\n",
       "       [   7,    6,   45,   46, 1188,   25,    6,  342,  295,   40],\n",
       "       [  94,    2,   90,  311,   32, 1329,   14,   30,   88,   10],\n",
       "       [ 176,   13,  546,  119,   72,  237,  720,   11,   48,   58],\n",
       "       [  52,   30,   45,  737,   66,   12,    1,  929,  116,   12],\n",
       "       [ 139,    2,  117, 1023,   23,  183,    7,  233,  247,   26],\n",
       "       [   7,    6,   56,  510,  112,   29,    0,  741,  225,  314]])"
      ]
     },
     "execution_count": 62,
     "metadata": {},
     "output_type": "execute_result"
    }
   ],
   "source": [
    "confusion_matrix(USPSTar,PredNNUS) #Confusion Matrix for USPS dataset"
   ]
  },
  {
   "cell_type": "markdown",
   "metadata": {},
   "source": [
    "# Logistic Regression"
   ]
  },
  {
   "cell_type": "code",
   "execution_count": 64,
   "metadata": {},
   "outputs": [],
   "source": [
    "def predictY(X,W):\n",
    "    return softmax(np.dot(W,X))\n",
    "\n",
    "def softmax(z):\n",
    "    sum = np.sum(np.exp(z)) \n",
    "    for i in range(10):\n",
    "        z[i] = np.exp(z[i])/sum\n",
    "    return z    \n",
    "        \n",
    "def hot_vector(Y):\n",
    "    return np.eye(10)[Y]"
   ]
  },
  {
   "cell_type": "code",
   "execution_count": 65,
   "metadata": {},
   "outputs": [],
   "source": [
    "Ylog_train = hot_vector(training_data[1])\n",
    "Ylog_val = hot_vector(Y_val)"
   ]
  },
  {
   "cell_type": "code",
   "execution_count": 66,
   "metadata": {},
   "outputs": [],
   "source": [
    "W = np.ones((10,784)) #Initialize the weights\n",
    "LearningRate = 0.01\n",
    "LogYpredTrain = []\n",
    "\n",
    "for i in range(50000):\n",
    "    Y_predicted = predictY(X_train[i],W)\n",
    "    label = np.argmax(Y_predicted)\n",
    "    LogYpredTrain.append(label)\n",
    "    \n",
    "    for j in range(10):\n",
    "        grad = (Y_predicted[j] - Ylog_train[i,j]) * X_train[i]\n",
    "        W[j] = W[j] - LearningRate * grad    "
   ]
  },
  {
   "cell_type": "code",
   "execution_count": 67,
   "metadata": {},
   "outputs": [
    {
     "name": "stdout",
     "output_type": "stream",
     "text": [
      "0.90686\n"
     ]
    },
    {
     "data": {
      "text/plain": [
       "array([[4777,    0,    9,   21,    6,   37,   20,   11,   46,    5],\n",
       "       [   0, 5513,   17,   33,    3,   31,    3,   16,   59,    3],\n",
       "       [  42,   73, 4261,  168,   69,   30,   63,   97,  144,   21],\n",
       "       [  10,   29,   70, 4549,    2,  228,    7,   74,   81,   51],\n",
       "       [   9,   33,   22,   13, 4339,   16,   57,   31,   50,  289],\n",
       "       [  65,   44,   16,  158,   30, 3974,   31,   22,  130,   36],\n",
       "       [  41,   18,   23,   13,   17,  174, 4621,    4,   35,    5],\n",
       "       [  20,   32,   46,   15,   30,   12,    2, 4881,   18,  119],\n",
       "       [  30,  107,   34,  184,   16,  301,   33,   31, 4031,   75],\n",
       "       [  37,   32,    9,   56,   88,   75,    1,  253,   40, 4397]])"
      ]
     },
     "execution_count": 67,
     "metadata": {},
     "output_type": "execute_result"
    }
   ],
   "source": [
    "TR_Y = softmax(np.dot(X_train,W.T)) \n",
    "Predicted = np.argmax(TR_Y, axis = 1)\n",
    "TrAccuracy = (training_data[1] == Predicted).sum()\n",
    "TrAccuracy = TrAccuracy/len(training_data[1])\n",
    "print(TrAccuracy)  \n",
    "confusion_matrix(training_data[1],Predicted) #Confusion Matrix for training"
   ]
  },
  {
   "cell_type": "code",
   "execution_count": 68,
   "metadata": {},
   "outputs": [],
   "source": [
    "#For validation         \n",
    "LearningRate = 0.01\n",
    "LogYpredval = []\n",
    "\n",
    "for i in range(10000):\n",
    "    Y_predicted = predictY(X_val[i],W)\n",
    "    label = np.argmax(Y_predicted)\n",
    "    LogYpredval.append(label)\n",
    "    \n",
    "    for j in range(10):\n",
    "        grad = (Y_predicted[j] - Ylog_val[i,j]) * X_val[i]\n",
    "        W[j] = W[j] - LearningRate * grad "
   ]
  },
  {
   "cell_type": "code",
   "execution_count": 69,
   "metadata": {},
   "outputs": [
    {
     "name": "stdout",
     "output_type": "stream",
     "text": [
      "0.918\n"
     ]
    },
    {
     "data": {
      "text/plain": [
       "array([[ 975,    0,    0,    3,    1,    4,    3,    0,    2,    3],\n",
       "       [   0, 1047,    3,    4,    1,    3,    0,    1,    4,    1],\n",
       "       [   6,   22,  865,   28,   17,    7,    9,    9,   19,    8],\n",
       "       [   9,    4,    9,  933,    1,   47,    2,    1,    8,   16],\n",
       "       [   3,   11,    0,    1,  918,    0,    4,    2,    2,   42],\n",
       "       [  17,    5,    4,   36,    7,  802,   12,    2,   16,   14],\n",
       "       [   5,    5,    4,    0,    6,   19,  925,    0,    3,    0],\n",
       "       [   7,   14,    9,    9,    8,    0,    0,  981,    1,   61],\n",
       "       [   3,   37,    7,   42,    6,   43,    3,    4,  833,   31],\n",
       "       [   9,    6,    1,    9,   10,    4,    1,   16,    4,  901]])"
      ]
     },
     "execution_count": 69,
     "metadata": {},
     "output_type": "execute_result"
    }
   ],
   "source": [
    "V_Y = softmax(np.dot(X_val,W.T)) \n",
    "Predicted = np.argmax(V_Y, axis = 1)\n",
    "VAccuracy = (validation_data[1] == Predicted).sum()\n",
    "VAccuracy = VAccuracy/len(validation_data[1])\n",
    "print(VAccuracy)  \n",
    "confusion_matrix(validation_data[1],Predicted) #Confusion Matrix for validation"
   ]
  },
  {
   "cell_type": "code",
   "execution_count": 71,
   "metadata": {},
   "outputs": [
    {
     "name": "stdout",
     "output_type": "stream",
     "text": [
      "0.9033\n"
     ]
    },
    {
     "data": {
      "text/plain": [
       "array([[ 969,    0,    0,    1,    0,    2,    5,    1,    2,    0],\n",
       "       [   0, 1118,    2,    2,    1,    1,    4,    1,    5,    1],\n",
       "       [  10,   25,  860,   47,   15,    4,   14,    9,   37,   11],\n",
       "       [   3,    1,   15,  920,    2,   41,    2,    9,    6,   11],\n",
       "       [   1,    3,    2,    1,  892,    0,   12,    1,    7,   63],\n",
       "       [  10,    4,    2,   37,   11,  777,   10,    5,   26,   10],\n",
       "       [  16,    3,    3,    2,    9,   31,  890,    2,    2,    0],\n",
       "       [   3,   16,   19,   11,    8,    2,    0,  902,    4,   63],\n",
       "       [  10,   24,    2,   60,   12,   59,    8,    6,  769,   24],\n",
       "       [  12,   10,    1,   11,   22,    6,    0,    9,    2,  936]])"
      ]
     },
     "execution_count": 71,
     "metadata": {},
     "output_type": "execute_result"
    }
   ],
   "source": [
    "T_Y = softmax(np.dot(X_test,W.T)) \n",
    "PredictedT = np.argmax(T_Y, axis = 1)\n",
    "TAccuracy = (test_data[1] == PredictedT).sum()\n",
    "TAccuracy = TAccuracy/len(test_data[1])\n",
    "print(TAccuracy) \n",
    "confusion_matrix(test_data[1],PredictedT) #Confusion Matrix for testing"
   ]
  },
  {
   "cell_type": "code",
   "execution_count": 74,
   "metadata": {},
   "outputs": [
    {
     "name": "stdout",
     "output_type": "stream",
     "text": [
      "0.3586179308965448\n"
     ]
    },
    {
     "data": {
      "text/plain": [
       "array([[ 629,    4,  228,   79,  181,  194,   47,   75,  163,  400],\n",
       "       [ 142,  369,  207,  226,  248,  112,   28,  464,  175,   29],\n",
       "       [ 199,   37, 1151,  182,   45,  172,   56,   40,   77,   40],\n",
       "       [  81,    4,  123, 1266,   10,  368,    4,   60,   47,   37],\n",
       "       [  53,   64,   34,   46,  966,  132,   24,  220,  275,  186],\n",
       "       [ 143,   17,  164,  206,   37, 1213,   56,   58,   78,   28],\n",
       "       [ 261,   10,  405,   97,   71,  433,  610,   16,   29,   68],\n",
       "       [ 169,  204,  137,  588,   71,   97,   14,  361,  280,   79],\n",
       "       [ 247,   31,  104,  287,  115,  598,   73,   50,  395,  100],\n",
       "       [  37,  129,   92,  494,  139,   78,   11,  463,  345,  212]])"
      ]
     },
     "execution_count": 74,
     "metadata": {},
     "output_type": "execute_result"
    }
   ],
   "source": [
    "TRUS_Y = softmax(np.dot(USPSMat,W.T))\n",
    "PredictedU = np.argmax(TRUS_Y, axis = 1)\n",
    "TrAccuracy = (USPSTar == PredictedU).sum()\n",
    "TrAccuracy = TrAccuracy/len(USPSMat)\n",
    "print(TrAccuracy)  \n",
    "confusion_matrix(USPSTar,PredictedU) #Confusion Matrix for USPS dataset"
   ]
  },
  {
   "cell_type": "markdown",
   "metadata": {},
   "source": [
    "# Combining the Models"
   ]
  },
  {
   "cell_type": "code",
   "execution_count": 102,
   "metadata": {},
   "outputs": [],
   "source": [
    "final_predm = []\n",
    "final_predu = []\n",
    "for i in range(0,10000):\n",
    "    final_predm.append([ValRF[i], TestSVM[i], PredNN[i], PredictedT[i]])\n",
    "    \n",
    "for i in range(0,19999):\n",
    "    final_predu.append([TrainingUSRF[i], TestSVMUS[i], PredNNUS[i], PredictedU[i]])"
   ]
  },
  {
   "cell_type": "code",
   "execution_count": 103,
   "metadata": {},
   "outputs": [],
   "source": [
    "def mode(a):  #Implementation mode function\n",
    "    freq = max(list(map(a.count, a)))\n",
    "    return list(set(filter(lambda x: a.count(x) == freq, a)))"
   ]
  },
  {
   "cell_type": "code",
   "execution_count": 104,
   "metadata": {},
   "outputs": [],
   "source": [
    "G = []\n",
    "U = []\n",
    "for i in range(len(final_predm)):\n",
    "    G.append(max(mode(final_predm[i]))) #Obtaining matrix of all labels after majority voting\n",
    "    \n",
    "for i in range(len(final_predu)):\n",
    "    U.append(max(mode(final_predu[i]))) #Obtaining matrix of all labels after majority voting"
   ]
  },
  {
   "cell_type": "code",
   "execution_count": 105,
   "metadata": {},
   "outputs": [
    {
     "data": {
      "text/plain": [
       "0.9438"
      ]
     },
     "execution_count": 105,
     "metadata": {},
     "output_type": "execute_result"
    }
   ],
   "source": [
    "accuracy_score(G,Y_test)"
   ]
  },
  {
   "cell_type": "code",
   "execution_count": 106,
   "metadata": {},
   "outputs": [
    {
     "data": {
      "text/plain": [
       "0.39821991099554976"
      ]
     },
     "execution_count": 106,
     "metadata": {},
     "output_type": "execute_result"
    }
   ],
   "source": [
    "accuracy_score(U,USPSTar)"
   ]
  },
  {
   "cell_type": "code",
   "execution_count": null,
   "metadata": {},
   "outputs": [],
   "source": []
  }
 ],
 "metadata": {
  "kernelspec": {
   "display_name": "Python 3",
   "language": "python",
   "name": "python3"
  },
  "language_info": {
   "codemirror_mode": {
    "name": "ipython",
    "version": 3
   },
   "file_extension": ".py",
   "mimetype": "text/x-python",
   "name": "python",
   "nbconvert_exporter": "python",
   "pygments_lexer": "ipython3",
   "version": "3.6.5"
  }
 },
 "nbformat": 4,
 "nbformat_minor": 2
}
