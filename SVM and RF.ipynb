{
 "cells": [
  {
   "cell_type": "markdown",
   "metadata": {},
   "source": [
    "## Load MNIST on Python 3.x"
   ]
  },
  {
   "cell_type": "code",
   "execution_count": 1,
   "metadata": {},
   "outputs": [],
   "source": [
    "import pickle\n",
    "import gzip \n",
    "import numpy as np\n",
    "from sklearn.svm import SVC  \n",
    "from sklearn.ensemble import RandomForestClassifier\n",
    "from sklearn.metrics import accuracy_score\n",
    "from sklearn.metrics import confusion_matrix"
   ]
  },
  {
   "cell_type": "code",
   "execution_count": 2,
   "metadata": {},
   "outputs": [],
   "source": [
    "filename = 'mnist.pkl.gz'\n",
    "f = gzip.open(filename, 'rb')\n",
    "training_data, validation_data, test_data = pickle.load(f, encoding='latin1')\n",
    "f.close()"
   ]
  },
  {
   "cell_type": "code",
   "execution_count": 8,
   "metadata": {},
   "outputs": [],
   "source": [
    "X_train = training_data[0]\n",
    "Y_train = training_data[1]\n",
    "X_val = validation_data[0]\n",
    "Y_val = validation_data[1]\n",
    "X_test = test_data[0]\n",
    "Y_test = test_data[1]"
   ]
  },
  {
   "cell_type": "code",
   "execution_count": 11,
   "metadata": {},
   "outputs": [
    {
     "data": {
      "text/plain": [
       "0.97246"
      ]
     },
     "execution_count": 11,
     "metadata": {},
     "output_type": "execute_result"
    }
   ],
   "source": [
    "classifier1 = SVC(kernel='linear') \n",
    "classifier1.fit(X_train, Y_train)  \n",
    "TrainingY = classifier1.predict(X_train)\n",
    "accuracy_score(Y_train,TrainingY)"
   ]
  },
  {
   "cell_type": "code",
   "execution_count": 12,
   "metadata": {},
   "outputs": [
    {
     "data": {
      "text/plain": [
       "0.9979"
      ]
     },
     "execution_count": 12,
     "metadata": {},
     "output_type": "execute_result"
    }
   ],
   "source": [
    "classifier1 = SVC(kernel='linear') \n",
    "classifier1.fit(X_val, Y_val)  \n",
    "ValY = classifier1.predict(X_val)\n",
    "accuracy_score(Y_val,ValY)"
   ]
  },
  {
   "cell_type": "code",
   "execution_count": 13,
   "metadata": {},
   "outputs": [
    {
     "data": {
      "text/plain": [
       "0.9989"
      ]
     },
     "execution_count": 13,
     "metadata": {},
     "output_type": "execute_result"
    }
   ],
   "source": [
    "classifier1 = SVC(kernel='linear') \n",
    "classifier1.fit(X_test, Y_test)  \n",
    "TestY = classifier1.predict(X_test)\n",
    "accuracy_score(Y_test,TestY)"
   ]
  },
  {
   "cell_type": "code",
   "execution_count": 16,
   "metadata": {},
   "outputs": [
    {
     "data": {
      "text/plain": [
       "0.99932"
      ]
     },
     "execution_count": 16,
     "metadata": {},
     "output_type": "execute_result"
    }
   ],
   "source": [
    "classifier2 = RandomForestClassifier(n_estimators = 10)\n",
    "classifier2.fit(X_train, Y_train)  \n",
    "TrainingY = classifier2.predict(X_train)\n",
    "accuracy_score(Y_train,TrainingY)"
   ]
  },
  {
   "cell_type": "code",
   "execution_count": 15,
   "metadata": {},
   "outputs": [],
   "source": [
    "TestY = classifier2.predict(X_test)"
   ]
  },
  {
   "cell_type": "code",
   "execution_count": 6,
   "metadata": {},
   "outputs": [
    {
     "data": {
      "text/plain": [
       "0.97246"
      ]
     },
     "execution_count": 6,
     "metadata": {},
     "output_type": "execute_result"
    }
   ],
   "source": []
  },
  {
   "cell_type": "code",
   "execution_count": 7,
   "metadata": {},
   "outputs": [
    {
     "data": {
      "text/plain": [
       "array([[4917,    0,    1,    0,    1,    3,    4,    0,    6,    0],\n",
       "       [   1, 5647,    9,    5,    0,    0,    0,    2,   12,    2],\n",
       "       [   6,   15, 4828,   30,   19,    6,   14,   15,   34,    1],\n",
       "       [   9,    8,   67, 4893,    1,   59,    0,   11,   38,   15],\n",
       "       [   2,    8,    9,    2, 4751,    0,    4,    4,    1,   78],\n",
       "       [  13,   11,   15,   87,    9, 4305,   22,    1,   39,    4],\n",
       "       [   7,    1,    7,    1,    6,   16, 4908,    0,    5,    0],\n",
       "       [   3,    5,   26,    6,   30,    2,    1, 5030,    6,   66],\n",
       "       [  10,   37,   26,   76,    7,   56,    8,    8, 4602,   12],\n",
       "       [   9,   13,    7,   18,   84,   13,    0,   90,   12, 4742]])"
      ]
     },
     "execution_count": 7,
     "metadata": {},
     "output_type": "execute_result"
    }
   ],
   "source": [
    "confusion_matrix(Y_train,TrainingY)"
   ]
  },
  {
   "cell_type": "code",
   "execution_count": null,
   "metadata": {},
   "outputs": [],
   "source": []
  }
 ],
 "metadata": {
  "kernelspec": {
   "display_name": "Python 3",
   "language": "python",
   "name": "python3"
  },
  "language_info": {
   "codemirror_mode": {
    "name": "ipython",
    "version": 3
   },
   "file_extension": ".py",
   "mimetype": "text/x-python",
   "name": "python",
   "nbconvert_exporter": "python",
   "pygments_lexer": "ipython3",
   "version": "3.6.5"
  }
 },
 "nbformat": 4,
 "nbformat_minor": 2
}
