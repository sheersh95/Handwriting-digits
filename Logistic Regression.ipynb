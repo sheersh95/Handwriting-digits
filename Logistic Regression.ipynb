{
 "cells": [
  {
   "cell_type": "markdown",
   "metadata": {},
   "source": [
    "## Libraries Required"
   ]
  },
  {
   "cell_type": "code",
   "execution_count": 54,
   "metadata": {},
   "outputs": [],
   "source": [
    "import pickle\n",
    "import gzip \n",
    "import numpy as np\n",
    "from sklearn.metrics import confusion_matrix \n",
    "from PIL import Image\n",
    "import os\n",
    "import numpy as np"
   ]
  },
  {
   "cell_type": "code",
   "execution_count": 55,
   "metadata": {},
   "outputs": [],
   "source": [
    "filename = 'mnist.pkl.gz'\n",
    "f = gzip.open(filename, 'rb')\n",
    "training_data, validation_data, test_data = pickle.load(f, encoding='latin1')\n",
    "f.close()\n",
    "\n",
    "USPSMat  = []\n",
    "USPSTar  = []\n",
    "curPath  = 'USPSdata/USPSdata/Numerals'\n",
    "savedImg = []\n",
    "\n",
    "for j in range(0,10):\n",
    "    curFolderPath = curPath + '/' + str(j)\n",
    "    imgs =  os.listdir(curFolderPath)\n",
    "    for img in imgs:\n",
    "        curImg = curFolderPath + '/' + img\n",
    "        if curImg[-3:] == 'png':\n",
    "            img = Image.open(curImg,'r')\n",
    "            img = img.resize((28, 28))\n",
    "            savedImg = img\n",
    "            imgdata = (255-np.array(img.getdata()))/255\n",
    "            USPSMat.append(imgdata)\n",
    "            USPSTar.append(j)"
   ]
  },
  {
   "cell_type": "code",
   "execution_count": 56,
   "metadata": {},
   "outputs": [],
   "source": [
    "def predictY(X,W):\n",
    "    return softmax(np.dot(W,X))"
   ]
  },
  {
   "cell_type": "code",
   "execution_count": 57,
   "metadata": {},
   "outputs": [],
   "source": [
    "def softmax(z):\n",
    "    sum = np.sum(np.exp(z)) \n",
    "    for i in range(10):\n",
    "        z[i] = np.exp(z[i])/sum\n",
    "    return z    \n",
    "        \n",
    "\n",
    "def hot_vector(Y):\n",
    "    return np.eye(10)[Y]"
   ]
  },
  {
   "cell_type": "code",
   "execution_count": 58,
   "metadata": {},
   "outputs": [],
   "source": [
    "X_train = training_data[0]\n",
    "Y_train = hot_vector(training_data[1])"
   ]
  },
  {
   "cell_type": "code",
   "execution_count": 59,
   "metadata": {},
   "outputs": [],
   "source": [
    "W = np.ones((10,784)) #Initialize the weights\n",
    "LearningRate = 0.01\n",
    "\n",
    "for i in range(50000):\n",
    "    Y_predicted = predictY(X_train[i],W)\n",
    "    \n",
    "    for j in range(10):\n",
    "        grad = (Y_predicted[j] - Y_train[i,j]) * X_train[i]\n",
    "        W[j] = W[j] - LearningRate * grad    "
   ]
  },
  {
   "cell_type": "markdown",
   "metadata": {},
   "source": [
    "## Training Accuracy"
   ]
  },
  {
   "cell_type": "code",
   "execution_count": 60,
   "metadata": {},
   "outputs": [
    {
     "name": "stdout",
     "output_type": "stream",
     "text": [
      "[[1.04028090e-091 2.83433187e-094 3.05020618e-092 ... 2.66612406e-091\n",
      "  1.73549415e-091 2.42503911e-092]\n",
      " [1.76126619e-080 4.34693174e-090 4.25173337e-086 ... 8.01037175e-086\n",
      "  2.91760312e-085 2.29190066e-086]\n",
      " [1.28167748e-106 2.43791506e-107 1.17206138e-105 ... 8.26495800e-106\n",
      "  7.20951138e-106 8.84441080e-105]\n",
      " ...\n",
      " [8.64305587e+001 9.16972764e+001 9.16197738e+001 ... 8.48742337e+001\n",
      "  9.67939152e+001 8.83429101e+001]\n",
      " [8.41208125e+001 8.45347435e+001 8.89549182e+001 ... 8.72310799e+001\n",
      "  9.06886565e+001 9.12734987e+001]\n",
      " [9.71910265e+001 1.05488364e+002 1.04081388e+002 ... 1.04692032e+002\n",
      "  1.10235364e+002 1.07124175e+002]]\n",
      "0.90686\n"
     ]
    }
   ],
   "source": [
    "#Calculate Training Accuracy\n",
    "TR_Y = softmax(np.dot(X_train,W.T)) \n",
    "print(TR_Y)\n",
    "Predicted = np.argmax(TR_Y, axis = 1)\n",
    "TrAccuracy = (training_data[1] == Predicted).sum()\n",
    "TrAccuracy = TrAccuracy/len(training_data[1])\n",
    "print(TrAccuracy)   "
   ]
  },
  {
   "cell_type": "markdown",
   "metadata": {},
   "source": [
    "## Run for Validation"
   ]
  },
  {
   "cell_type": "code",
   "execution_count": 62,
   "metadata": {},
   "outputs": [],
   "source": [
    "X_validation = validation_data[0]\n",
    "Y_validation = hot_vector(validation_data[1])\n",
    "\n",
    "for i in range(10000):\n",
    "    Y_predicted = predictY(X_validation[i],W)\n",
    "    \n",
    "    for j in range(10):\n",
    "        grad = (Y_predicted[j] - Y_validation[i,j]) * X_validation[i]\n",
    "        W[j] = W[j] - LearningRate * grad"
   ]
  },
  {
   "cell_type": "markdown",
   "metadata": {},
   "source": [
    "## Validation Accuracy"
   ]
  },
  {
   "cell_type": "code",
   "execution_count": 63,
   "metadata": {},
   "outputs": [
    {
     "name": "stdout",
     "output_type": "stream",
     "text": [
      "0.918\n"
     ]
    }
   ],
   "source": [
    "#Calculate Validation Accuracy\n",
    "V_Y = softmax(np.dot(X_validation,W.T))  \n",
    "Predicted = np.argmax(V_Y, axis = 1)\n",
    "VAccuracy = (validation_data[1] == Predicted).sum()\n",
    "VAccuracy = VAccuracy/len(validation_data[1])\n",
    "print(VAccuracy)"
   ]
  },
  {
   "cell_type": "markdown",
   "metadata": {},
   "source": [
    "## Testing Accuracy"
   ]
  },
  {
   "cell_type": "code",
   "execution_count": 65,
   "metadata": {},
   "outputs": [
    {
     "name": "stdout",
     "output_type": "stream",
     "text": [
      "0.9033\n"
     ]
    }
   ],
   "source": [
    "X_test = test_data[0]\n",
    "Y_test = test_data[1]\n",
    "\n",
    "#Calculate Testing Accuracy\n",
    "T_Y = softmax(np.dot(X_test,W.T)) \n",
    "Predicted = np.argmax(T_Y, axis = 1)\n",
    "TAccuracy = (Y_test == Predicted).sum()\n",
    "TAccuracy = TAccuracy/len(Y_test)\n",
    "print(TAccuracy)"
   ]
  },
  {
   "cell_type": "code",
   "execution_count": 68,
   "metadata": {
    "scrolled": true
   },
   "outputs": [
    {
     "data": {
      "text/plain": [
       "array([[ 629,    4,  228,   79,  181,  194,   47,   75,  163,  400],\n",
       "       [ 142,  369,  207,  226,  248,  112,   28,  464,  175,   29],\n",
       "       [ 199,   37, 1151,  182,   45,  172,   56,   40,   77,   40],\n",
       "       [  81,    4,  123, 1266,   10,  368,    4,   60,   47,   37],\n",
       "       [  53,   64,   34,   46,  966,  132,   24,  220,  275,  186],\n",
       "       [ 143,   17,  164,  206,   37, 1213,   56,   58,   78,   28],\n",
       "       [ 261,   10,  405,   97,   71,  433,  610,   16,   29,   68],\n",
       "       [ 169,  204,  137,  588,   71,   97,   14,  361,  280,   79],\n",
       "       [ 247,   31,  104,  287,  115,  598,   73,   50,  395,  100],\n",
       "       [  37,  129,   92,  494,  139,   78,   11,  463,  345,  212]])"
      ]
     },
     "execution_count": 68,
     "metadata": {},
     "output_type": "execute_result"
    }
   ],
   "source": [
    "confusion_matrix(USPSTar, Predicted)"
   ]
  },
  {
   "cell_type": "code",
   "execution_count": 67,
   "metadata": {},
   "outputs": [
    {
     "name": "stdout",
     "output_type": "stream",
     "text": [
      "0.3586179308965448\n"
     ]
    }
   ],
   "source": [
    "#Calculate Testing Accuracy\n",
    "T_Y = softmax(np.dot(USPSMat,W.T)) \n",
    "Predicted = np.argmax(T_Y, axis = 1)\n",
    "TAccuracy = (USPSTar == Predicted).sum()\n",
    "TAccuracy = TAccuracy/len(USPSTar)\n",
    "print(TAccuracy)\n"
   ]
  },
  {
   "cell_type": "code",
   "execution_count": 52,
   "metadata": {},
   "outputs": [
    {
     "data": {
      "text/plain": [
       "(19999,)"
      ]
     },
     "execution_count": 52,
     "metadata": {},
     "output_type": "execute_result"
    }
   ],
   "source": [
    "Predicted.shape"
   ]
  },
  {
   "cell_type": "code",
   "execution_count": null,
   "metadata": {},
   "outputs": [],
   "source": []
  }
 ],
 "metadata": {
  "kernelspec": {
   "display_name": "Python 3",
   "language": "python",
   "name": "python3"
  },
  "language_info": {
   "codemirror_mode": {
    "name": "ipython",
    "version": 3
   },
   "file_extension": ".py",
   "mimetype": "text/x-python",
   "name": "python",
   "nbconvert_exporter": "python",
   "pygments_lexer": "ipython3",
   "version": "3.6.5"
  }
 },
 "nbformat": 4,
 "nbformat_minor": 2
}
