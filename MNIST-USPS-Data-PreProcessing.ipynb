{
 "cells": [
  {
   "cell_type": "markdown",
   "metadata": {},
   "source": [
    "## Load MNIST on Python 3.x"
   ]
  },
  {
   "cell_type": "code",
   "execution_count": 8,
   "metadata": {},
   "outputs": [],
   "source": [
    "import pickle\n",
    "import gzip\n",
    "from sklearn.ensemble import RandomForestClassifier\n",
    "from sklearn.metrics import confusion_matrix \n",
    "from sklearn.metrics import accuracy_score"
   ]
  },
  {
   "cell_type": "code",
   "execution_count": 2,
   "metadata": {},
   "outputs": [],
   "source": [
    "filename = 'mnist.pkl.gz'\n",
    "f = gzip.open(filename, 'rb')\n",
    "training_data, validation_data, test_data = pickle.load(f, encoding='latin1')\n",
    "f.close()"
   ]
  },
  {
   "cell_type": "markdown",
   "metadata": {},
   "source": [
    "## Load USPS on Python 3.x"
   ]
  },
  {
   "cell_type": "code",
   "execution_count": 3,
   "metadata": {},
   "outputs": [],
   "source": [
    "from PIL import Image\n",
    "import os\n",
    "import numpy as np"
   ]
  },
  {
   "cell_type": "code",
   "execution_count": 5,
   "metadata": {},
   "outputs": [],
   "source": [
    "USPSMat  = []\n",
    "USPSTar  = []\n",
    "curPath  = 'USPSdata/USPSdata/Numerals'\n",
    "savedImg = []\n",
    "\n",
    "for j in range(0,10):\n",
    "    curFolderPath = curPath + '/' + str(j)\n",
    "    imgs =  os.listdir(curFolderPath)\n",
    "    for img in imgs:\n",
    "        curImg = curFolderPath + '/' + img\n",
    "        if curImg[-3:] == 'png':\n",
    "            img = Image.open(curImg,'r')\n",
    "            img = img.resize((28, 28))\n",
    "            savedImg = img\n",
    "            imgdata = (255-np.array(img.getdata()))/255\n",
    "            USPSMat.append(imgdata)\n",
    "            USPSTar.append(j)"
   ]
  },
  {
   "cell_type": "code",
   "execution_count": 104,
   "metadata": {},
   "outputs": [
    {
     "data": {
      "text/plain": [
       "1.0"
      ]
     },
     "execution_count": 104,
     "metadata": {},
     "output_type": "execute_result"
    }
   ],
   "source": [
    "classifier2 = RandomForestClassifier(n_estimators = 150)\n",
    "classifier2.fit(training_data[0], training_data[1])  \n",
    "TrainingRF = classifier2.predict(training_data[0])\n",
    "accuracy_score(training_data[1],TrainingRF) #Training accuracy "
   ]
  },
  {
   "cell_type": "code",
   "execution_count": 105,
   "metadata": {
    "scrolled": true
   },
   "outputs": [
    {
     "data": {
      "text/plain": [
       "array([[4932,    0,    0,    0,    0,    0,    0,    0,    0,    0],\n",
       "       [   0, 5678,    0,    0,    0,    0,    0,    0,    0,    0],\n",
       "       [   0,    0, 4968,    0,    0,    0,    0,    0,    0,    0],\n",
       "       [   0,    0,    0, 5101,    0,    0,    0,    0,    0,    0],\n",
       "       [   0,    0,    0,    0, 4859,    0,    0,    0,    0,    0],\n",
       "       [   0,    0,    0,    0,    0, 4506,    0,    0,    0,    0],\n",
       "       [   0,    0,    0,    0,    0,    0, 4951,    0,    0,    0],\n",
       "       [   0,    0,    0,    0,    0,    0,    0, 5175,    0,    0],\n",
       "       [   0,    0,    0,    0,    0,    0,    0,    0, 4842,    0],\n",
       "       [   0,    0,    0,    0,    0,    0,    0,    0,    0, 4988]])"
      ]
     },
     "execution_count": 105,
     "metadata": {},
     "output_type": "execute_result"
    }
   ],
   "source": [
    "confusion_matrix(training_data[1],TrainingRF) #Confusion Matrix for training"
   ]
  },
  {
   "cell_type": "code",
   "execution_count": 106,
   "metadata": {},
   "outputs": [
    {
     "data": {
      "text/plain": [
       "1.0"
      ]
     },
     "execution_count": 106,
     "metadata": {},
     "output_type": "execute_result"
    }
   ],
   "source": [
    "classifier2.fit(validation_data[0], validation_data[1])  \n",
    "ValRF = classifier2.predict(validation_data[0])\n",
    "accuracy_score(validation_data[1],ValRF) #Validation accuracy"
   ]
  },
  {
   "cell_type": "code",
   "execution_count": 107,
   "metadata": {},
   "outputs": [
    {
     "data": {
      "text/plain": [
       "array([[ 991,    0,    0,    0,    0,    0,    0,    0,    0,    0],\n",
       "       [   0, 1064,    0,    0,    0,    0,    0,    0,    0,    0],\n",
       "       [   0,    0,  990,    0,    0,    0,    0,    0,    0,    0],\n",
       "       [   0,    0,    0, 1030,    0,    0,    0,    0,    0,    0],\n",
       "       [   0,    0,    0,    0,  983,    0,    0,    0,    0,    0],\n",
       "       [   0,    0,    0,    0,    0,  915,    0,    0,    0,    0],\n",
       "       [   0,    0,    0,    0,    0,    0,  967,    0,    0,    0],\n",
       "       [   0,    0,    0,    0,    0,    0,    0, 1090,    0,    0],\n",
       "       [   0,    0,    0,    0,    0,    0,    0,    0, 1009,    0],\n",
       "       [   0,    0,    0,    0,    0,    0,    0,    0,    0,  961]])"
      ]
     },
     "execution_count": 107,
     "metadata": {},
     "output_type": "execute_result"
    }
   ],
   "source": [
    "confusion_matrix(validation_data[1],ValRF) #Confusion Matrix for validation"
   ]
  },
  {
   "cell_type": "code",
   "execution_count": 108,
   "metadata": {},
   "outputs": [
    {
     "data": {
      "text/plain": [
       "0.9485"
      ]
     },
     "execution_count": 108,
     "metadata": {},
     "output_type": "execute_result"
    }
   ],
   "source": [
    "ValRF = classifier2.predict(test_data[0])\n",
    "accuracy_score(test_data[1],ValRF) #Testing accuracy"
   ]
  },
  {
   "cell_type": "code",
   "execution_count": 109,
   "metadata": {},
   "outputs": [
    {
     "data": {
      "text/plain": [
       "array([[ 966,    0,    0,    0,    0,    3,    5,    1,    4,    1],\n",
       "       [   0, 1118,    3,    4,    1,    1,    3,    1,    4,    0],\n",
       "       [  11,    0,  960,    8,   12,    3,   10,   15,   12,    1],\n",
       "       [   3,    0,   14,  937,    1,   24,    0,   11,   16,    4],\n",
       "       [   1,    0,    2,    0,  938,    1,    8,    1,    5,   26],\n",
       "       [   5,    4,    1,   19,    7,  837,    9,    2,    6,    2],\n",
       "       [  15,    3,    1,    1,    6,    9,  920,    0,    3,    0],\n",
       "       [   2,    5,   23,    2,    3,    0,    0,  967,    5,   21],\n",
       "       [   4,    1,   11,   12,    6,    8,   12,    4,  904,   12],\n",
       "       [   5,    7,    5,   12,   23,    6,    2,    3,    8,  938]])"
      ]
     },
     "execution_count": 109,
     "metadata": {},
     "output_type": "execute_result"
    }
   ],
   "source": [
    "confusion_matrix(test_data[1],ValRF) #Confusion Matrix for testing"
   ]
  },
  {
   "cell_type": "code",
   "execution_count": 110,
   "metadata": {},
   "outputs": [
    {
     "data": {
      "text/plain": [
       "0.3576178808940447"
      ]
     },
     "execution_count": 110,
     "metadata": {},
     "output_type": "execute_result"
    }
   ],
   "source": [
    "TrainingUSRF = classifier2.predict(USPSMat)\n",
    "accuracy_score(USPSTar,TrainingUSRF) #Accuracy with USPS dataset"
   ]
  },
  {
   "cell_type": "code",
   "execution_count": 111,
   "metadata": {},
   "outputs": [
    {
     "data": {
      "text/plain": [
       "array([[ 603,   19,  240,   46,  454,  164,   72,  238,    3,  161],\n",
       "       [  29,  535,   94,   57,   68,   93,   24, 1087,   10,    3],\n",
       "       [ 119,   64,  979,   68,   74,  259,   33,  386,   10,    7],\n",
       "       [  44,   14,   76, 1064,   82,  385,    5,  284,    5,   41],\n",
       "       [  13,  215,   42,   19,  998,  174,   14,  475,   16,   34],\n",
       "       [ 130,   45,  106,  103,   53, 1359,   27,  167,    5,    5],\n",
       "       [ 353,   69,  200,   30,  101,  393,  605,  226,    8,   15],\n",
       "       [  20,  434,  234,  169,   40,  250,   37,  803,    2,   11],\n",
       "       [  46,   75,  125,  183,  135, 1073,   69,  145,  119,   30],\n",
       "       [  15,  328,  160,  180,  251,  149,    6,  758,   66,   87]])"
      ]
     },
     "execution_count": 111,
     "metadata": {},
     "output_type": "execute_result"
    }
   ],
   "source": [
    "confusion_matrix(USPSTar,TrainingUSRF) #Confusion Matrix for USPS dataset"
   ]
  },
  {
   "cell_type": "code",
   "execution_count": null,
   "metadata": {},
   "outputs": [],
   "source": []
  }
 ],
 "metadata": {
  "kernelspec": {
   "display_name": "Python 3",
   "language": "python",
   "name": "python3"
  },
  "language_info": {
   "codemirror_mode": {
    "name": "ipython",
    "version": 3
   },
   "file_extension": ".py",
   "mimetype": "text/x-python",
   "name": "python",
   "nbconvert_exporter": "python",
   "pygments_lexer": "ipython3",
   "version": "3.6.5"
  }
 },
 "nbformat": 4,
 "nbformat_minor": 2
}
